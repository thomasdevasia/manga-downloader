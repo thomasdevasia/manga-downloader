{
 "cells": [
  {
   "cell_type": "code",
   "execution_count": 31,
   "metadata": {},
   "outputs": [],
   "source": [
    "from bs4 import BeautifulSoup\n",
    "import requests\n",
    "import os\n",
    "from PIL import Image"
   ]
  },
  {
   "cell_type": "code",
   "execution_count": 4,
   "metadata": {},
   "outputs": [],
   "source": [
    "html_txt = requests.get('https://read-vinlandsaga.com/').text\n",
    "# print(html_txt)"
   ]
  },
  {
   "cell_type": "code",
   "execution_count": 5,
   "metadata": {},
   "outputs": [],
   "source": [
    "soup = BeautifulSoup(html_txt, 'lxml')\n",
    "# print(soup.prettify())"
   ]
  },
  {
   "cell_type": "code",
   "execution_count": 61,
   "metadata": {},
   "outputs": [],
   "source": [
    "# finding all chapters\n",
    "chapter_list = soup.find_all('ul', class_='su-posts')\n",
    "# chapters = soup.find_all('li', class_='su-post')\n",
    "chapters = chapter_list[0].find_all('li', class_='su-post')\n",
    "# print(chapters)\n",
    "# print(chapters[200].a['href'])"
   ]
  },
  {
   "cell_type": "code",
   "execution_count": 62,
   "metadata": {},
   "outputs": [],
   "source": [
    "# delete all files in download folder\n",
    "def clear_download():\n",
    "    for file in os.listdir('./download/'):\n",
    "        os.remove('./download/' + file)"
   ]
  },
  {
   "cell_type": "code",
   "execution_count": 63,
   "metadata": {},
   "outputs": [],
   "source": [
    "# read all images and merge pdf\n",
    "def create_pdf(file_name, save_path='./final/', files_path='./download/'):\n",
    "    images = []\n",
    "    for img in sorted(os.listdir(files_path)):\n",
    "        images.append(Image.open(files_path + img))\n",
    "        # print(img)\n",
    "    images[0].save(save_path + file_name, save_all=True, append_images=images[1:])\n",
    "\n",
    "# create_pdf('test' + '.pdf')"
   ]
  },
  {
   "cell_type": "code",
   "execution_count": 64,
   "metadata": {},
   "outputs": [
    {
     "name": "stdout",
     "output_type": "stream",
     "text": [
      "vinland saga, Chapter 1\n",
      "https://read-vinlandsaga.com/manga/vinland-saga-chapter-1/\n",
      "vinland saga, Chapter 2 : Somewhere Not Here\n",
      "https://read-vinlandsaga.com/manga/vinland-saga-chapter-2-somewhere-not-here/\n",
      "vinland saga, Chapter 3 : The End Beyond The Sea\n",
      "https://read-vinlandsaga.com/manga/vinland-saga-chapter-3-the-end-beyond-the-sea/\n",
      "vinland saga, Chapter 4 : Unbroken Chains\n",
      "https://read-vinlandsaga.com/manga/vinland-saga-chapter-4-unbroken-chains/\n"
     ]
    }
   ],
   "source": [
    "for chapter in chapters[-1:-5:-1]:\n",
    "    name = chapter.a.text\n",
    "    link = chapter.a['href']\n",
    "    print(name)\n",
    "    print(link)\n",
    "\n",
    "    # getting the chapter content\n",
    "    chapter_html = requests.get(link).text\n",
    "    chapter_soup = BeautifulSoup(chapter_html, 'lxml')\n",
    "    chapter_content = chapter_soup.find_all('div', class_='separator')\n",
    "    \n",
    "    for img in chapter_content:\n",
    "        img_link = img.img['src']\n",
    "        img_name = img_link.split('/')[-1]\n",
    "        if int(img_name.split('.')[0]) < 10:\n",
    "            img_name = '0' + img_name\n",
    "        # download the image and save it\n",
    "        image = requests.get(img_link).content\n",
    "        with open(f'./download/{img_name}', 'wb') as f:\n",
    "            f.write(image)\n",
    "\n",
    "    create_pdf(name + '.pdf')\n",
    "    clear_download()"
   ]
  },
  {
   "cell_type": "code",
   "execution_count": 51,
   "metadata": {},
   "outputs": [],
   "source": [
    "clear_download()"
   ]
  }
 ],
 "metadata": {
  "kernelspec": {
   "display_name": "base",
   "language": "python",
   "name": "python3"
  },
  "language_info": {
   "codemirror_mode": {
    "name": "ipython",
    "version": 3
   },
   "file_extension": ".py",
   "mimetype": "text/x-python",
   "name": "python",
   "nbconvert_exporter": "python",
   "pygments_lexer": "ipython3",
   "version": "3.9.12"
  },
  "orig_nbformat": 4,
  "vscode": {
   "interpreter": {
    "hash": "466db9f32c1c88b86c7f961d49ad86adda2506db7f2c7f48b3c7db2633a079c5"
   }
  }
 },
 "nbformat": 4,
 "nbformat_minor": 2
}
